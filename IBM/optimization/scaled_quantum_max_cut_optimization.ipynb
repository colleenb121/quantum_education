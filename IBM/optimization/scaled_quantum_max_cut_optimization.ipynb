{
 "cells": [
  {
   "cell_type": "markdown",
   "metadata": {},
   "source": [
    "Solve utility-scale quantum optimization problems \n",
    "\n",
    "1. Learn how to execute it a small scale optimized problem at utility scale.  \n",
    "\n",
    "The goal of this problem is to partition the nodes of a graph into two sets such that the number of edges traversed by this cut is maximized."
   ]
  }
 ],
 "metadata": {
  "kernelspec": {
   "display_name": "env_of_uncertainty",
   "language": "python",
   "name": "python3"
  },
  "language_info": {
   "codemirror_mode": {
    "name": "ipython",
    "version": 3
   },
   "file_extension": ".py",
   "mimetype": "text/x-python",
   "name": "python",
   "nbconvert_exporter": "python",
   "pygments_lexer": "ipython3",
   "version": "3.11.3"
  }
 },
 "nbformat": 4,
 "nbformat_minor": 2
}
